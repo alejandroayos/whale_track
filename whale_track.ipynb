{
  "nbformat": 4,
  "nbformat_minor": 0,
  "metadata": {
    "colab": {
      "provenance": [],
      "collapsed_sections": []
    },
    "kernelspec": {
      "name": "python3",
      "display_name": "Python 3"
    },
    "language_info": {
      "name": "python"
    }
  },
  "cells": [
    {
      "cell_type": "markdown",
      "metadata": {
        "id": "MTRb490yTeYQ"
      },
      "source": [
        "# Descargo Data  (100 wallets)"
      ]
    },
    {
      "cell_type": "code",
      "metadata": {
        "colab": {
          "base_uri": "https://localhost:8080/",
          "height": 363
        },
        "id": "8TvnAz79DjhM",
        "outputId": "82c647d4-ec37-4e1d-9e25-1569dcd742ed"
      },
      "source": [
        "import requests\n",
        "import pandas as pd\n",
        "\n",
        "header = {\n",
        "  \"User-Agent\": \"Mozilla/5.0 (X11; Linux x86_64) AppleWebKit/537.36 (KHTML, like Gecko) Chrome/50.0.2661.75 Safari/537.36\",\n",
        "  \"X-Requested-With\": \"XMLHttpRequest\"\n",
        "}\n",
        "url  = 'https://bitinfocharts.com/top-100-richest-bitcoin-addresses.html'\n",
        "\n",
        "r = requests.get(url, headers=header)\n",
        "tables = pd.read_html(r.text)\n",
        "\n",
        "lista = tables[0]\n",
        "lista"
      ],
      "execution_count": null,
      "outputs": [
        {
          "output_type": "execute_result",
          "data": {
            "text/html": [
              "<div>\n",
              "<style scoped>\n",
              "    .dataframe tbody tr th:only-of-type {\n",
              "        vertical-align: middle;\n",
              "    }\n",
              "\n",
              "    .dataframe tbody tr th {\n",
              "        vertical-align: top;\n",
              "    }\n",
              "\n",
              "    .dataframe thead th {\n",
              "        text-align: right;\n",
              "    }\n",
              "</style>\n",
              "<table border=\"1\" class=\"dataframe\">\n",
              "  <thead>\n",
              "    <tr style=\"text-align: right;\">\n",
              "      <th></th>\n",
              "      <th>Balance, BTC</th>\n",
              "      <th>Addresses</th>\n",
              "      <th>% Addresses (Total)</th>\n",
              "      <th>Coins</th>\n",
              "      <th>USD</th>\n",
              "      <th>% Coins (Total)</th>\n",
              "    </tr>\n",
              "  </thead>\n",
              "  <tbody>\n",
              "    <tr>\n",
              "      <th>0</th>\n",
              "      <td>(0 - 0.001)</td>\n",
              "      <td>20326799</td>\n",
              "      <td>51.46% (100%)</td>\n",
              "      <td>4,226 BTC</td>\n",
              "      <td>$205,866,195</td>\n",
              "      <td>0.02% (100%)</td>\n",
              "    </tr>\n",
              "    <tr>\n",
              "      <th>1</th>\n",
              "      <td>[0.001 - 0.01)</td>\n",
              "      <td>9834445</td>\n",
              "      <td>24.9% (48.54%)</td>\n",
              "      <td>37,468 BTC</td>\n",
              "      <td>$1,825,362,369</td>\n",
              "      <td>0.2% (99.98%)</td>\n",
              "    </tr>\n",
              "    <tr>\n",
              "      <th>2</th>\n",
              "      <td>[0.01 - 0.1)</td>\n",
              "      <td>6049796</td>\n",
              "      <td>15.32% (23.64%)</td>\n",
              "      <td>195,960 BTC</td>\n",
              "      <td>$9,546,755,251</td>\n",
              "      <td>1.04% (99.78%)</td>\n",
              "    </tr>\n",
              "    <tr>\n",
              "      <th>3</th>\n",
              "      <td>[0.1 - 1)</td>\n",
              "      <td>2475219</td>\n",
              "      <td>6.27% (8.32%)</td>\n",
              "      <td>769,102 BTC</td>\n",
              "      <td>$37,468,977,088</td>\n",
              "      <td>4.07% (98.74%)</td>\n",
              "    </tr>\n",
              "    <tr>\n",
              "      <th>4</th>\n",
              "      <td>[1 - 10)</td>\n",
              "      <td>664273</td>\n",
              "      <td>1.68% (2.06%)</td>\n",
              "      <td>1,694,679 BTC</td>\n",
              "      <td>$82,561,056,385</td>\n",
              "      <td>8.97% (94.67%)</td>\n",
              "    </tr>\n",
              "    <tr>\n",
              "      <th>5</th>\n",
              "      <td>[10 - 100)</td>\n",
              "      <td>132430</td>\n",
              "      <td>0.34% (0.38%)</td>\n",
              "      <td>4,308,409 BTC</td>\n",
              "      <td>$209,896,304,039</td>\n",
              "      <td>22.81% (85.7%)</td>\n",
              "    </tr>\n",
              "    <tr>\n",
              "      <th>6</th>\n",
              "      <td>[100 - 1,000)</td>\n",
              "      <td>13996</td>\n",
              "      <td>0.04% (0.04%)</td>\n",
              "      <td>3,992,223 BTC</td>\n",
              "      <td>$194,492,425,621</td>\n",
              "      <td>21.13% (62.89%)</td>\n",
              "    </tr>\n",
              "    <tr>\n",
              "      <th>7</th>\n",
              "      <td>[1,000 - 10,000)</td>\n",
              "      <td>2076</td>\n",
              "      <td>0.01% (0.01%)</td>\n",
              "      <td>5,258,154 BTC</td>\n",
              "      <td>$256,165,821,166</td>\n",
              "      <td>27.84% (41.76%)</td>\n",
              "    </tr>\n",
              "    <tr>\n",
              "      <th>8</th>\n",
              "      <td>[10,000 - 100,000)</td>\n",
              "      <td>85</td>\n",
              "      <td>0% (0%)</td>\n",
              "      <td>2,058,028 BTC</td>\n",
              "      <td>$100,262,662,241</td>\n",
              "      <td>10.89% (13.92%)</td>\n",
              "    </tr>\n",
              "    <tr>\n",
              "      <th>9</th>\n",
              "      <td>[100,000 - 1,000,000)</td>\n",
              "      <td>3</td>\n",
              "      <td>0% (0%)</td>\n",
              "      <td>571,452 BTC</td>\n",
              "      <td>$27,839,885,831</td>\n",
              "      <td>3.03% (3.03%)</td>\n",
              "    </tr>\n",
              "  </tbody>\n",
              "</table>\n",
              "</div>"
            ],
            "text/plain": [
              "            Balance, BTC  Addresses  ...               USD  % Coins (Total)\n",
              "0            (0 - 0.001)   20326799  ...      $205,866,195     0.02% (100%)\n",
              "1         [0.001 - 0.01)    9834445  ...    $1,825,362,369    0.2% (99.98%)\n",
              "2           [0.01 - 0.1)    6049796  ...    $9,546,755,251   1.04% (99.78%)\n",
              "3              [0.1 - 1)    2475219  ...   $37,468,977,088   4.07% (98.74%)\n",
              "4               [1 - 10)     664273  ...   $82,561,056,385   8.97% (94.67%)\n",
              "5             [10 - 100)     132430  ...  $209,896,304,039   22.81% (85.7%)\n",
              "6          [100 - 1,000)      13996  ...  $194,492,425,621  21.13% (62.89%)\n",
              "7       [1,000 - 10,000)       2076  ...  $256,165,821,166  27.84% (41.76%)\n",
              "8     [10,000 - 100,000)         85  ...  $100,262,662,241  10.89% (13.92%)\n",
              "9  [100,000 - 1,000,000)          3  ...   $27,839,885,831    3.03% (3.03%)\n",
              "\n",
              "[10 rows x 6 columns]"
            ]
          },
          "metadata": {},
          "execution_count": 1
        }
      ]
    },
    {
      "cell_type": "code",
      "metadata": {
        "colab": {
          "base_uri": "https://localhost:8080/",
          "height": 597
        },
        "id": "q8wvlTw6Dp71",
        "outputId": "32dbac39-789d-4206-b14d-e21af2c40f09"
      },
      "source": [
        "second_part=  tables[3]\n",
        "second_part.columns = tables[2].columns\n",
        "all_data  = pd.concat([tables[2],second_part]).iloc[:,1:]\n",
        "all_data.columns = ['address', 'balance', 'share','first_in', 'last_in', 'ins', 'first_out', 'last_out', 'outs']\n",
        "all_data"
      ],
      "execution_count": null,
      "outputs": [
        {
          "output_type": "execute_result",
          "data": {
            "text/html": [
              "<div>\n",
              "<style scoped>\n",
              "    .dataframe tbody tr th:only-of-type {\n",
              "        vertical-align: middle;\n",
              "    }\n",
              "\n",
              "    .dataframe tbody tr th {\n",
              "        vertical-align: top;\n",
              "    }\n",
              "\n",
              "    .dataframe thead th {\n",
              "        text-align: right;\n",
              "    }\n",
              "</style>\n",
              "<table border=\"1\" class=\"dataframe\">\n",
              "  <thead>\n",
              "    <tr style=\"text-align: right;\">\n",
              "      <th></th>\n",
              "      <th>address</th>\n",
              "      <th>balance</th>\n",
              "      <th>share</th>\n",
              "      <th>first_in</th>\n",
              "      <th>last_in</th>\n",
              "      <th>ins</th>\n",
              "      <th>first_out</th>\n",
              "      <th>last_out</th>\n",
              "      <th>outs</th>\n",
              "    </tr>\n",
              "  </thead>\n",
              "  <tbody>\n",
              "    <tr>\n",
              "      <th>0</th>\n",
              "      <td>34xp4vRoCGJym3xR7yCVPFHoCNxv4Twseowallet: Bina...</td>\n",
              "      <td>288,126 BTC ($14,036,881,658)</td>\n",
              "      <td>1.53%</td>\n",
              "      <td>2018-10-18 12:59:18 UTC</td>\n",
              "      <td>2021-12-04 18:45:58 UTC</td>\n",
              "      <td>636</td>\n",
              "      <td>2018-10-18 13:19:26 UTC</td>\n",
              "      <td>2021-10-22 20:49:49 UTC</td>\n",
              "      <td>425.0</td>\n",
              "    </tr>\n",
              "    <tr>\n",
              "      <th>1</th>\n",
              "      <td>bc1qgdjqv0av3q56jvd82tkdjpy7gdp9ut8tlqmgrpmv24...</td>\n",
              "      <td>168,010 BTC ($8,185,080,674) / -10001 BTC</td>\n",
              "      <td>0.8893%</td>\n",
              "      <td>2019-08-16 10:00:29 UTC</td>\n",
              "      <td>2021-11-13 21:38:39 UTC</td>\n",
              "      <td>80</td>\n",
              "      <td>2020-02-02 17:43:14 UTC</td>\n",
              "      <td>2021-11-12 13:40:40 UTC</td>\n",
              "      <td>78.0</td>\n",
              "    </tr>\n",
              "    <tr>\n",
              "      <th>2</th>\n",
              "      <td>1P5ZEDWTKTFGxQjZphgWPQUpe554WKDfHQ</td>\n",
              "      <td>115,316 BTC ($5,617,923,499) +356 BTC / +6815 BTC</td>\n",
              "      <td>0.6104%</td>\n",
              "      <td>2019-02-06 02:18:39 UTC</td>\n",
              "      <td>2021-12-05 06:54:53 UTC</td>\n",
              "      <td>570</td>\n",
              "      <td>2019-02-10 21:58:57 UTC</td>\n",
              "      <td>2021-11-08 23:13:40 UTC</td>\n",
              "      <td>63.0</td>\n",
              "    </tr>\n",
              "    <tr>\n",
              "      <th>3</th>\n",
              "      <td>37XuVSEpWW4trkfmvWzegTHQt7BdktSKUswallet: 7760...</td>\n",
              "      <td>94,505 BTC ($4,604,083,415)</td>\n",
              "      <td>0.5002%</td>\n",
              "      <td>2019-09-06 03:30:05 UTC</td>\n",
              "      <td>2021-11-14 20:13:31 UTC</td>\n",
              "      <td>120</td>\n",
              "      <td>2021-07-04 03:56:36 UTC</td>\n",
              "      <td>2021-07-04 04:10:14 UTC</td>\n",
              "      <td>2.0</td>\n",
              "    </tr>\n",
              "    <tr>\n",
              "      <th>4</th>\n",
              "      <td>38UmuUqPCrFmQo4khkomQwZ4VbY2nZMJ67 2-of-6walle...</td>\n",
              "      <td>84,067 BTC ($4,095,562,062) / -9499 BTC</td>\n",
              "      <td>0.4450%</td>\n",
              "      <td>2016-03-14 22:20:01 UTC</td>\n",
              "      <td>2021-11-17 04:56:51 UTC</td>\n",
              "      <td>271</td>\n",
              "      <td>2016-03-15 17:57:11 UTC</td>\n",
              "      <td>2021-11-17 04:56:51 UTC</td>\n",
              "      <td>151.0</td>\n",
              "    </tr>\n",
              "    <tr>\n",
              "      <th>...</th>\n",
              "      <td>...</td>\n",
              "      <td>...</td>\n",
              "      <td>...</td>\n",
              "      <td>...</td>\n",
              "      <td>...</td>\n",
              "      <td>...</td>\n",
              "      <td>...</td>\n",
              "      <td>...</td>\n",
              "      <td>...</td>\n",
              "    </tr>\n",
              "    <tr>\n",
              "      <th>76</th>\n",
              "      <td>1MLsZmbT3mgmm6zLkTR26yJHVfn8BSdqqd</td>\n",
              "      <td>9,901 BTC ($482,348,876)</td>\n",
              "      <td>0.05241%</td>\n",
              "      <td>2018-12-04 02:28:38 UTC</td>\n",
              "      <td>2021-07-21 17:06:18 UTC</td>\n",
              "      <td>96</td>\n",
              "      <td>NaN</td>\n",
              "      <td>NaN</td>\n",
              "      <td>NaN</td>\n",
              "    </tr>\n",
              "    <tr>\n",
              "      <th>77</th>\n",
              "      <td>bc1qmjpguunz9lc7h6zf533wtjc70ync94ptnrjqmk</td>\n",
              "      <td>9,901 BTC ($482,337,720)</td>\n",
              "      <td>0.05241%</td>\n",
              "      <td>2021-07-29 19:29:09 UTC</td>\n",
              "      <td>2021-07-29 19:29:09 UTC</td>\n",
              "      <td>1</td>\n",
              "      <td>NaN</td>\n",
              "      <td>NaN</td>\n",
              "      <td>NaN</td>\n",
              "    </tr>\n",
              "    <tr>\n",
              "      <th>78</th>\n",
              "      <td>bc1qyr9dsfyst3epqycghpxshfmgy8qfzadfhp8suk</td>\n",
              "      <td>9,900 BTC ($482,328,455)</td>\n",
              "      <td>0.05241%</td>\n",
              "      <td>2021-07-29 19:29:09 UTC</td>\n",
              "      <td>2021-07-29 19:29:09 UTC</td>\n",
              "      <td>1</td>\n",
              "      <td>NaN</td>\n",
              "      <td>NaN</td>\n",
              "      <td>NaN</td>\n",
              "    </tr>\n",
              "    <tr>\n",
              "      <th>79</th>\n",
              "      <td>bc1q8qg2eazryu9as20k3hveuvz43thp200g7nw7qy</td>\n",
              "      <td>9,900 BTC ($482,311,236)</td>\n",
              "      <td>0.05240%</td>\n",
              "      <td>2021-07-29 19:29:09 UTC</td>\n",
              "      <td>2021-07-29 19:29:09 UTC</td>\n",
              "      <td>1</td>\n",
              "      <td>NaN</td>\n",
              "      <td>NaN</td>\n",
              "      <td>NaN</td>\n",
              "    </tr>\n",
              "    <tr>\n",
              "      <th>80</th>\n",
              "      <td>bc1q4ffskt6879l4ewffrrflpykvphshl9la4q037h</td>\n",
              "      <td>9,895 BTC ($482,080,870)</td>\n",
              "      <td>0.05238%</td>\n",
              "      <td>2021-07-29 20:31:26 UTC</td>\n",
              "      <td>2021-07-29 20:31:26 UTC</td>\n",
              "      <td>1</td>\n",
              "      <td>NaN</td>\n",
              "      <td>NaN</td>\n",
              "      <td>NaN</td>\n",
              "    </tr>\n",
              "  </tbody>\n",
              "</table>\n",
              "<p>100 rows × 9 columns</p>\n",
              "</div>"
            ],
            "text/plain": [
              "                                              address  ...   outs\n",
              "0   34xp4vRoCGJym3xR7yCVPFHoCNxv4Twseowallet: Bina...  ...  425.0\n",
              "1   bc1qgdjqv0av3q56jvd82tkdjpy7gdp9ut8tlqmgrpmv24...  ...   78.0\n",
              "2                  1P5ZEDWTKTFGxQjZphgWPQUpe554WKDfHQ  ...   63.0\n",
              "3   37XuVSEpWW4trkfmvWzegTHQt7BdktSKUswallet: 7760...  ...    2.0\n",
              "4   38UmuUqPCrFmQo4khkomQwZ4VbY2nZMJ67 2-of-6walle...  ...  151.0\n",
              "..                                                ...  ...    ...\n",
              "76                 1MLsZmbT3mgmm6zLkTR26yJHVfn8BSdqqd  ...    NaN\n",
              "77         bc1qmjpguunz9lc7h6zf533wtjc70ync94ptnrjqmk  ...    NaN\n",
              "78         bc1qyr9dsfyst3epqycghpxshfmgy8qfzadfhp8suk  ...    NaN\n",
              "79         bc1q8qg2eazryu9as20k3hveuvz43thp200g7nw7qy  ...    NaN\n",
              "80         bc1q4ffskt6879l4ewffrrflpykvphshl9la4q037h  ...    NaN\n",
              "\n",
              "[100 rows x 9 columns]"
            ]
          },
          "metadata": {},
          "execution_count": 2
        }
      ]
    },
    {
      "cell_type": "markdown",
      "metadata": {
        "id": "c4IhgjK4TsNq"
      },
      "source": [
        "## Descargo data de las 100.000 wallets principales"
      ]
    },
    {
      "cell_type": "code",
      "metadata": {
        "colab": {
          "base_uri": "https://localhost:8080/",
          "height": 597
        },
        "id": "Vjl4umcoDz4F",
        "outputId": "54b4b5aa-9011-442b-8fdd-9e8458abdc50"
      },
      "source": [
        "pags = 100\n",
        "for pag in range(2,pags+2):\n",
        "  print(f\"Procesando pagina {pag} de {pags}    \" , end='\\r')\n",
        "  url = f'https://bitinfocharts.com/top-100-richest-bitcoin-addresses-{pag}.html'\n",
        "  r = requests.get(url, headers=header)\n",
        "  tables = pd.read_html(r.text)\n",
        "\n",
        "  second_part=  tables[1]\n",
        "  second_part.columns = tables[0].columns\n",
        "  all_page = pd.concat([tables[0], second_part]).iloc[:,1:]\n",
        "  all_page.columns = ['address', 'balance', 'share','first_in', 'last_in', 'ins', 'first_out', 'last_out', 'outs']\n",
        "  all_data  = pd.concat([all_data, all_page])\n",
        "all_data"
      ],
      "execution_count": null,
      "outputs": [
        {
          "output_type": "stream",
          "name": "stdout",
          "text": [
            ""
          ]
        },
        {
          "output_type": "execute_result",
          "data": {
            "text/html": [
              "<div>\n",
              "<style scoped>\n",
              "    .dataframe tbody tr th:only-of-type {\n",
              "        vertical-align: middle;\n",
              "    }\n",
              "\n",
              "    .dataframe tbody tr th {\n",
              "        vertical-align: top;\n",
              "    }\n",
              "\n",
              "    .dataframe thead th {\n",
              "        text-align: right;\n",
              "    }\n",
              "</style>\n",
              "<table border=\"1\" class=\"dataframe\">\n",
              "  <thead>\n",
              "    <tr style=\"text-align: right;\">\n",
              "      <th></th>\n",
              "      <th>address</th>\n",
              "      <th>balance</th>\n",
              "      <th>share</th>\n",
              "      <th>first_in</th>\n",
              "      <th>last_in</th>\n",
              "      <th>ins</th>\n",
              "      <th>first_out</th>\n",
              "      <th>last_out</th>\n",
              "      <th>outs</th>\n",
              "    </tr>\n",
              "  </thead>\n",
              "  <tbody>\n",
              "    <tr>\n",
              "      <th>0</th>\n",
              "      <td>34xp4vRoCGJym3xR7yCVPFHoCNxv4Twseowallet: Bina...</td>\n",
              "      <td>288,126 BTC ($14,036,881,658)</td>\n",
              "      <td>1.53%</td>\n",
              "      <td>2018-10-18 12:59:18 UTC</td>\n",
              "      <td>2021-12-04 18:45:58 UTC</td>\n",
              "      <td>636</td>\n",
              "      <td>2018-10-18 13:19:26 UTC</td>\n",
              "      <td>2021-10-22 20:49:49 UTC</td>\n",
              "      <td>425.0</td>\n",
              "    </tr>\n",
              "    <tr>\n",
              "      <th>1</th>\n",
              "      <td>bc1qgdjqv0av3q56jvd82tkdjpy7gdp9ut8tlqmgrpmv24...</td>\n",
              "      <td>168,010 BTC ($8,185,080,674) / -10001 BTC</td>\n",
              "      <td>0.8893%</td>\n",
              "      <td>2019-08-16 10:00:29 UTC</td>\n",
              "      <td>2021-11-13 21:38:39 UTC</td>\n",
              "      <td>80</td>\n",
              "      <td>2020-02-02 17:43:14 UTC</td>\n",
              "      <td>2021-11-12 13:40:40 UTC</td>\n",
              "      <td>78.0</td>\n",
              "    </tr>\n",
              "    <tr>\n",
              "      <th>2</th>\n",
              "      <td>1P5ZEDWTKTFGxQjZphgWPQUpe554WKDfHQ</td>\n",
              "      <td>115,316 BTC ($5,617,923,499) +356 BTC / +6815 BTC</td>\n",
              "      <td>0.6104%</td>\n",
              "      <td>2019-02-06 02:18:39 UTC</td>\n",
              "      <td>2021-12-05 06:54:53 UTC</td>\n",
              "      <td>570</td>\n",
              "      <td>2019-02-10 21:58:57 UTC</td>\n",
              "      <td>2021-11-08 23:13:40 UTC</td>\n",
              "      <td>63.0</td>\n",
              "    </tr>\n",
              "    <tr>\n",
              "      <th>3</th>\n",
              "      <td>37XuVSEpWW4trkfmvWzegTHQt7BdktSKUswallet: 7760...</td>\n",
              "      <td>94,505 BTC ($4,604,083,415)</td>\n",
              "      <td>0.5002%</td>\n",
              "      <td>2019-09-06 03:30:05 UTC</td>\n",
              "      <td>2021-11-14 20:13:31 UTC</td>\n",
              "      <td>120</td>\n",
              "      <td>2021-07-04 03:56:36 UTC</td>\n",
              "      <td>2021-07-04 04:10:14 UTC</td>\n",
              "      <td>2.0</td>\n",
              "    </tr>\n",
              "    <tr>\n",
              "      <th>4</th>\n",
              "      <td>38UmuUqPCrFmQo4khkomQwZ4VbY2nZMJ67 2-of-6walle...</td>\n",
              "      <td>84,067 BTC ($4,095,562,062) / -9499 BTC</td>\n",
              "      <td>0.4450%</td>\n",
              "      <td>2016-03-14 22:20:01 UTC</td>\n",
              "      <td>2021-11-17 04:56:51 UTC</td>\n",
              "      <td>271</td>\n",
              "      <td>2016-03-15 17:57:11 UTC</td>\n",
              "      <td>2021-11-17 04:56:51 UTC</td>\n",
              "      <td>151.0</td>\n",
              "    </tr>\n",
              "    <tr>\n",
              "      <th>...</th>\n",
              "      <td>...</td>\n",
              "      <td>...</td>\n",
              "      <td>...</td>\n",
              "      <td>...</td>\n",
              "      <td>...</td>\n",
              "      <td>...</td>\n",
              "      <td>...</td>\n",
              "      <td>...</td>\n",
              "      <td>...</td>\n",
              "    </tr>\n",
              "    <tr>\n",
              "      <th>76</th>\n",
              "      <td>19UcAYL5bEEEtQWtbL3MY871xQgt6kvsLYwallet: 3810...</td>\n",
              "      <td>171.91 BTC ($8,375,249)</td>\n",
              "      <td>0.00090997197901412%</td>\n",
              "      <td>2018-01-28 13:41:29 UTC</td>\n",
              "      <td>2020-08-10 23:48:29 UTC</td>\n",
              "      <td>47</td>\n",
              "      <td>2018-02-28 10:45:16 UTC</td>\n",
              "      <td>2019-06-12 08:18:27 UTC</td>\n",
              "      <td>23.0</td>\n",
              "    </tr>\n",
              "    <tr>\n",
              "      <th>77</th>\n",
              "      <td>1EHn6vqW4HixCaXXJHNcDvnPXFacBqsrh4</td>\n",
              "      <td>171.87 BTC ($8,373,359)</td>\n",
              "      <td>0.00090976669454045%</td>\n",
              "      <td>2020-10-12 10:35:11 UTC</td>\n",
              "      <td>2021-09-09 12:48:54 UTC</td>\n",
              "      <td>2</td>\n",
              "      <td>NaN</td>\n",
              "      <td>NaN</td>\n",
              "      <td>NaN</td>\n",
              "    </tr>\n",
              "    <tr>\n",
              "      <th>78</th>\n",
              "      <td>3CS9B7GwRjD6oXwAd68JSy8Z6Hb7ion2Uh</td>\n",
              "      <td>171.87 BTC ($8,373,335)</td>\n",
              "      <td>0.00090976403539635%</td>\n",
              "      <td>2021-02-21 16:44:36 UTC</td>\n",
              "      <td>2021-09-09 12:48:54 UTC</td>\n",
              "      <td>2</td>\n",
              "      <td>NaN</td>\n",
              "      <td>NaN</td>\n",
              "      <td>NaN</td>\n",
              "    </tr>\n",
              "    <tr>\n",
              "      <th>79</th>\n",
              "      <td>1NdomgdWm7E22kSx5TWG7iUwEw3m7fuWx6</td>\n",
              "      <td>171.86 BTC ($8,372,549)</td>\n",
              "      <td>0.00090967867230292%</td>\n",
              "      <td>2021-03-25 19:36:13 UTC</td>\n",
              "      <td>2021-11-30 21:52:43 UTC</td>\n",
              "      <td>31</td>\n",
              "      <td>NaN</td>\n",
              "      <td>NaN</td>\n",
              "      <td>NaN</td>\n",
              "    </tr>\n",
              "    <tr>\n",
              "      <th>80</th>\n",
              "      <td>1DMuEZEMpndRx7QJPvvR3DgyLHwHRqrp8C</td>\n",
              "      <td>171.81 BTC ($8,370,120)</td>\n",
              "      <td>0.00090941472209366%</td>\n",
              "      <td>2021-05-18 05:56:32 UTC</td>\n",
              "      <td>2021-09-09 12:48:54 UTC</td>\n",
              "      <td>3</td>\n",
              "      <td>NaN</td>\n",
              "      <td>NaN</td>\n",
              "      <td>NaN</td>\n",
              "    </tr>\n",
              "  </tbody>\n",
              "</table>\n",
              "<p>10100 rows × 9 columns</p>\n",
              "</div>"
            ],
            "text/plain": [
              "                                              address  ...   outs\n",
              "0   34xp4vRoCGJym3xR7yCVPFHoCNxv4Twseowallet: Bina...  ...  425.0\n",
              "1   bc1qgdjqv0av3q56jvd82tkdjpy7gdp9ut8tlqmgrpmv24...  ...   78.0\n",
              "2                  1P5ZEDWTKTFGxQjZphgWPQUpe554WKDfHQ  ...   63.0\n",
              "3   37XuVSEpWW4trkfmvWzegTHQt7BdktSKUswallet: 7760...  ...    2.0\n",
              "4   38UmuUqPCrFmQo4khkomQwZ4VbY2nZMJ67 2-of-6walle...  ...  151.0\n",
              "..                                                ...  ...    ...\n",
              "76  19UcAYL5bEEEtQWtbL3MY871xQgt6kvsLYwallet: 3810...  ...   23.0\n",
              "77                 1EHn6vqW4HixCaXXJHNcDvnPXFacBqsrh4  ...    NaN\n",
              "78                 3CS9B7GwRjD6oXwAd68JSy8Z6Hb7ion2Uh  ...    NaN\n",
              "79                 1NdomgdWm7E22kSx5TWG7iUwEw3m7fuWx6  ...    NaN\n",
              "80                 1DMuEZEMpndRx7QJPvvR3DgyLHwHRqrp8C  ...    NaN\n",
              "\n",
              "[10100 rows x 9 columns]"
            ]
          },
          "metadata": {},
          "execution_count": 3
        }
      ]
    },
    {
      "cell_type": "markdown",
      "metadata": {
        "id": "6ifA6pMATZw0"
      },
      "source": [
        "# Analizo los cambios"
      ]
    },
    {
      "cell_type": "code",
      "metadata": {
        "id": "PPTfVtjAGLsG"
      },
      "source": [
        "changes = []\n",
        "nuevas = []\n",
        "for i in range(len(all_data)):\n",
        "    row = all_data.iloc[i]\n",
        "    balance = row['balance']\n",
        "    cambios = balance.find('/')\n",
        "    if cambios != -1:\n",
        "        win = row['balance'].find('+')\n",
        "        loss = row['balance'].find('-')\n",
        "        b = float(row['balance'][:row['balance'].find(' BTC')].replace(',',''))\n",
        "\n",
        "        if win != -1:\n",
        "            cambios = row['balance'][win:]\n",
        "            cambio_wk = float(cambios[:cambios.find(' BTC')].replace('+',''))\n",
        "            if cambio_wk != b:\n",
        "                changes.append({'wallet':row['address'], 'cambio_week':cambio_wk})\n",
        "                \n",
        "            else:\n",
        "                nuevas.append({'wallet':row['address'], 'cambio_week':cambio_wk})\n",
        "        if loss != -1:\n",
        "            cambios = row['balance'][loss:]\n",
        "            cambio_wk = float(cambios[:cambios.find(' BTC')].replace('-',''))\n",
        "            changes.append({'wallet':row['address'], 'cambio_week': -cambio_wk})"
      ],
      "execution_count": null,
      "outputs": []
    },
    {
      "cell_type": "markdown",
      "metadata": {
        "id": "MhBRa41jUATq"
      },
      "source": [
        "# Analizo las que cambiaron saldo"
      ]
    },
    {
      "cell_type": "code",
      "metadata": {
        "colab": {
          "base_uri": "https://localhost:8080/"
        },
        "id": "AuyzbQ2oJCxd",
        "outputId": "a97e9c7f-bc75-4ba2-8f7d-99a671c98344"
      },
      "source": [
        "# Armo DataFrame\n",
        "df = pd.DataFrame(changes)\n",
        "\n",
        "df.cambio_week.describe()"
      ],
      "execution_count": null,
      "outputs": [
        {
          "output_type": "execute_result",
          "data": {
            "text/plain": [
              "count       39.000000\n",
              "mean      1708.289744\n",
              "std       7646.469041\n",
              "min     -10001.000000\n",
              "25%       -539.755000\n",
              "50%        427.450000\n",
              "75%       3375.000000\n",
              "max      39149.000000\n",
              "Name: cambio_week, dtype: float64"
            ]
          },
          "metadata": {},
          "execution_count": 5
        }
      ]
    },
    {
      "cell_type": "code",
      "metadata": {
        "colab": {
          "base_uri": "https://localhost:8080/"
        },
        "id": "1cpPUAQ6UHPv",
        "outputId": "6e91051c-9693-4733-ae8d-153d04c5b1cb"
      },
      "source": [
        "# Agregado\n",
        "df.cambio_week.sum()"
      ],
      "execution_count": null,
      "outputs": [
        {
          "output_type": "execute_result",
          "data": {
            "text/plain": [
              "66623.29999999999"
            ]
          },
          "metadata": {},
          "execution_count": 7
        }
      ]
    },
    {
      "cell_type": "code",
      "metadata": {
        "colab": {
          "base_uri": "https://localhost:8080/"
        },
        "id": "Bu5ZgI_4ULJg",
        "outputId": "a35415d5-7244-4ea2-f9f7-1f63b109de99"
      },
      "source": [
        "# Cuantas ganaron\n",
        "len(df.loc[df.cambio_week > 0])"
      ],
      "execution_count": null,
      "outputs": [
        {
          "output_type": "execute_result",
          "data": {
            "text/plain": [
              "23"
            ]
          },
          "metadata": {},
          "execution_count": 8
        }
      ]
    },
    {
      "cell_type": "markdown",
      "metadata": {
        "id": "phwxmxr2VW5-"
      },
      "source": [
        "# Analizo las nuevas"
      ]
    },
    {
      "cell_type": "code",
      "metadata": {
        "colab": {
          "base_uri": "https://localhost:8080/",
          "height": 423
        },
        "id": "BV8b45ArUbZU",
        "outputId": "5edf63e7-20e8-499b-a439-af1752af8957"
      },
      "source": [
        "nuevas_df = pd.DataFrame(nuevas)\n",
        "nuevas_df"
      ],
      "execution_count": null,
      "outputs": [
        {
          "output_type": "execute_result",
          "data": {
            "text/html": [
              "<div>\n",
              "<style scoped>\n",
              "    .dataframe tbody tr th:only-of-type {\n",
              "        vertical-align: middle;\n",
              "    }\n",
              "\n",
              "    .dataframe tbody tr th {\n",
              "        vertical-align: top;\n",
              "    }\n",
              "\n",
              "    .dataframe thead th {\n",
              "        text-align: right;\n",
              "    }\n",
              "</style>\n",
              "<table border=\"1\" class=\"dataframe\">\n",
              "  <thead>\n",
              "    <tr style=\"text-align: right;\">\n",
              "      <th></th>\n",
              "      <th>wallet</th>\n",
              "      <th>cambio_week</th>\n",
              "    </tr>\n",
              "  </thead>\n",
              "  <tbody>\n",
              "    <tr>\n",
              "      <th>0</th>\n",
              "      <td>38BJFrRagm6vJprZnCtmrxQdbMU7jxTtX1</td>\n",
              "      <td>15073.00</td>\n",
              "    </tr>\n",
              "    <tr>\n",
              "      <th>1</th>\n",
              "      <td>bc1qtef0p08lputg4qazhx2md43ynhc9kp20pn297qnz68...</td>\n",
              "      <td>10001.00</td>\n",
              "    </tr>\n",
              "    <tr>\n",
              "      <th>2</th>\n",
              "      <td>bc1qr6gmsxylg4e9sae27syl3pdvu9ntzv20y58hkw</td>\n",
              "      <td>9848.00</td>\n",
              "    </tr>\n",
              "    <tr>\n",
              "      <th>3</th>\n",
              "      <td>1Cd1q5hW3DySdb3b1PzeQ8Jk2D5ajBjvcg</td>\n",
              "      <td>9331.00</td>\n",
              "    </tr>\n",
              "    <tr>\n",
              "      <th>4</th>\n",
              "      <td>1CsShhaM1XijNaoVrzEGhrGkjdS8vXCdtD</td>\n",
              "      <td>8600.00</td>\n",
              "    </tr>\n",
              "    <tr>\n",
              "      <th>...</th>\n",
              "      <td>...</td>\n",
              "      <td>...</td>\n",
              "    </tr>\n",
              "    <tr>\n",
              "      <th>768</th>\n",
              "      <td>3AieaARs6jpzp4DRPheaPFPsE3UzefRXbW</td>\n",
              "      <td>173.35</td>\n",
              "    </tr>\n",
              "    <tr>\n",
              "      <th>769</th>\n",
              "      <td>1LZAHicbSsWym9qmmEbPSihvaWKxMwrUU9</td>\n",
              "      <td>172.20</td>\n",
              "    </tr>\n",
              "    <tr>\n",
              "      <th>770</th>\n",
              "      <td>3N5XLwkbtG5idMHFTwChPtYk4FTnPvF9HW</td>\n",
              "      <td>172.08</td>\n",
              "    </tr>\n",
              "    <tr>\n",
              "      <th>771</th>\n",
              "      <td>3FDTDCw9xUXsRTmVggJQmoLTCapVtp6P5i</td>\n",
              "      <td>172.02</td>\n",
              "    </tr>\n",
              "    <tr>\n",
              "      <th>772</th>\n",
              "      <td>1Nkoy7gEnHu2vPWLJutZA7BmApFWZkdDnm</td>\n",
              "      <td>171.95</td>\n",
              "    </tr>\n",
              "  </tbody>\n",
              "</table>\n",
              "<p>773 rows × 2 columns</p>\n",
              "</div>"
            ],
            "text/plain": [
              "                                                wallet  cambio_week\n",
              "0                   38BJFrRagm6vJprZnCtmrxQdbMU7jxTtX1     15073.00\n",
              "1    bc1qtef0p08lputg4qazhx2md43ynhc9kp20pn297qnz68...     10001.00\n",
              "2           bc1qr6gmsxylg4e9sae27syl3pdvu9ntzv20y58hkw      9848.00\n",
              "3                   1Cd1q5hW3DySdb3b1PzeQ8Jk2D5ajBjvcg      9331.00\n",
              "4                   1CsShhaM1XijNaoVrzEGhrGkjdS8vXCdtD      8600.00\n",
              "..                                                 ...          ...\n",
              "768                 3AieaARs6jpzp4DRPheaPFPsE3UzefRXbW       173.35\n",
              "769                 1LZAHicbSsWym9qmmEbPSihvaWKxMwrUU9       172.20\n",
              "770                 3N5XLwkbtG5idMHFTwChPtYk4FTnPvF9HW       172.08\n",
              "771                 3FDTDCw9xUXsRTmVggJQmoLTCapVtp6P5i       172.02\n",
              "772                 1Nkoy7gEnHu2vPWLJutZA7BmApFWZkdDnm       171.95\n",
              "\n",
              "[773 rows x 2 columns]"
            ]
          },
          "metadata": {},
          "execution_count": 9
        }
      ]
    },
    {
      "cell_type": "code",
      "metadata": {
        "colab": {
          "base_uri": "https://localhost:8080/",
          "height": 564
        },
        "id": "v2L3IAZKVd5C",
        "outputId": "accc9d25-0fc0-45ed-9183-7ea70c516e00"
      },
      "source": [
        "# estadisticas de las nuevas\n",
        "\n",
        "nuevas_df.hist(bins=50)\n",
        "nuevas_df.describe()"
      ],
      "execution_count": null,
      "outputs": [
        {
          "output_type": "execute_result",
          "data": {
            "text/html": [
              "<div>\n",
              "<style scoped>\n",
              "    .dataframe tbody tr th:only-of-type {\n",
              "        vertical-align: middle;\n",
              "    }\n",
              "\n",
              "    .dataframe tbody tr th {\n",
              "        vertical-align: top;\n",
              "    }\n",
              "\n",
              "    .dataframe thead th {\n",
              "        text-align: right;\n",
              "    }\n",
              "</style>\n",
              "<table border=\"1\" class=\"dataframe\">\n",
              "  <thead>\n",
              "    <tr style=\"text-align: right;\">\n",
              "      <th></th>\n",
              "      <th>cambio_week</th>\n",
              "    </tr>\n",
              "  </thead>\n",
              "  <tbody>\n",
              "    <tr>\n",
              "      <th>count</th>\n",
              "      <td>773.000000</td>\n",
              "    </tr>\n",
              "    <tr>\n",
              "      <th>mean</th>\n",
              "      <td>814.713208</td>\n",
              "    </tr>\n",
              "    <tr>\n",
              "      <th>std</th>\n",
              "      <td>1285.941138</td>\n",
              "    </tr>\n",
              "    <tr>\n",
              "      <th>min</th>\n",
              "      <td>171.950000</td>\n",
              "    </tr>\n",
              "    <tr>\n",
              "      <th>25%</th>\n",
              "      <td>239.260000</td>\n",
              "    </tr>\n",
              "    <tr>\n",
              "      <th>50%</th>\n",
              "      <td>374.700000</td>\n",
              "    </tr>\n",
              "    <tr>\n",
              "      <th>75%</th>\n",
              "      <td>886.010000</td>\n",
              "    </tr>\n",
              "    <tr>\n",
              "      <th>max</th>\n",
              "      <td>15073.000000</td>\n",
              "    </tr>\n",
              "  </tbody>\n",
              "</table>\n",
              "</div>"
            ],
            "text/plain": [
              "        cambio_week\n",
              "count    773.000000\n",
              "mean     814.713208\n",
              "std     1285.941138\n",
              "min      171.950000\n",
              "25%      239.260000\n",
              "50%      374.700000\n",
              "75%      886.010000\n",
              "max    15073.000000"
            ]
          },
          "metadata": {},
          "execution_count": 15
        },
        {
          "output_type": "display_data",
          "data": {
            "image/png": "[encoded data removed]",
            "text/plain": [
              "<Figure size 432x288 with 1 Axes>"
            ]
          },
          "metadata": {
            "needs_background": "light"
          }
        }
      ]
    },
    {
      "cell_type": "code",
      "metadata": {
        "colab": {
          "base_uri": "https://localhost:8080/"
        },
        "id": "2vGDjhMLVhQP",
        "outputId": "7fd30f64-540a-449b-a0db-1e948af1e707"
      },
      "source": [
        "# Cuanto ganaron en total\n",
        "nuevas_df.sum()"
      ],
      "execution_count": null,
      "outputs": [
        {
          "output_type": "execute_result",
          "data": {
            "text/plain": [
              "wallet         38BJFrRagm6vJprZnCtmrxQdbMU7jxTtX1bc1qtef0p08l...\n",
              "cambio_week                                               629773\n",
              "dtype: object"
            ]
          },
          "metadata": {},
          "execution_count": 12
        }
      ]
    },
    {
      "cell_type": "code",
      "metadata": {
        "id": "dQFo6zUNVlf9"
      },
      "source": [],
      "execution_count": null,
      "outputs": []
    }
  ]
}